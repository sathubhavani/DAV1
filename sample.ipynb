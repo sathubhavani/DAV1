{
  "nbformat": 4,
  "nbformat_minor": 0,
  "metadata": {
    "colab": {
      "provenance": [],
      "authorship_tag": "ABX9TyPBqU8wOozREM1+zO0LoCKj",
      "include_colab_link": true
    },
    "kernelspec": {
      "name": "python3",
      "display_name": "Python 3"
    },
    "language_info": {
      "name": "python"
    }
  },
  "cells": [
    {
      "cell_type": "markdown",
      "metadata": {
        "id": "view-in-github",
        "colab_type": "text"
      },
      "source": [
        "<a href=\"https://colab.research.google.com/github/sathubhavani/DAV1/blob/main/sample.ipynb\" target=\"_parent\"><img src=\"https://colab.research.google.com/assets/colab-badge.svg\" alt=\"Open In Colab\"/></a>"
      ]
    },
    {
      "cell_type": "code",
      "execution_count": 1,
      "metadata": {
        "colab": {
          "base_uri": "https://localhost:8080/"
        },
        "id": "uwyY2jiuVsrd",
        "outputId": "a36f0f55-1b87-48d8-8885-de41271b446d"
      },
      "outputs": [
        {
          "output_type": "stream",
          "name": "stdout",
          "text": [
            "List: [1, 2, 'three', 4.0]\n"
          ]
        }
      ],
      "source": [
        "my_list = [1, 2, \"three\", 4.0]\n",
        "print(f\"List: {my_list}\")"
      ]
    },
    {
      "cell_type": "code",
      "source": [
        "my_tuple = (10, \"twenty\", 30.0)\n",
        "print(f\"Tuple: {my_tuple}\")"
      ],
      "metadata": {
        "colab": {
          "base_uri": "https://localhost:8080/"
        },
        "id": "jf2MK0LCXMFG",
        "outputId": "ca560893-af79-45d8-b4a2-1cf93d0aa04d"
      },
      "execution_count": 2,
      "outputs": [
        {
          "output_type": "stream",
          "name": "stdout",
          "text": [
            "Tuple: (10, 'twenty', 30.0)\n"
          ]
        }
      ]
    },
    {
      "cell_type": "code",
      "source": [
        "my_dictionary = {\n",
        "    \"name\": \"Alice\",\n",
        "    \"age\": 30,\n",
        "    \"city\": \"New York\"\n",
        "}\n",
        "print(f\"Dictionary: {my_dictionary}\")\n"
      ],
      "metadata": {
        "colab": {
          "base_uri": "https://localhost:8080/"
        },
        "id": "AOzZiBGCXUc7",
        "outputId": "e1b74a53-1f22-44f0-bbf7-562345053ae5"
      },
      "execution_count": 3,
      "outputs": [
        {
          "output_type": "stream",
          "name": "stdout",
          "text": [
            "Dictionary: {'name': 'Alice', 'age': 30, 'city': 'New York'}\n"
          ]
        }
      ]
    },
    {
      "cell_type": "code",
      "source": [
        "import pandas as pd\n",
        "\n",
        "data = {\n",
        "    \"Name\": [\"Bob\", \"Charlie\", \"David\"],\n",
        "    \"Age\": [25, 35, 40],\n",
        "    \"Occupation\": [\"Engineer\", \"Doctor\", \"Artist\"]\n",
        "}\n",
        "my_dataframe = pd.DataFrame(data)\n",
        "print(\"\\nDataFrame:\")\n",
        "print(my_dataframe)"
      ],
      "metadata": {
        "colab": {
          "base_uri": "https://localhost:8080/"
        },
        "id": "oHFYa2biXe1T",
        "outputId": "50320cf4-5fe9-41b1-9e30-f74919ae2551"
      },
      "execution_count": 4,
      "outputs": [
        {
          "output_type": "stream",
          "name": "stdout",
          "text": [
            "\n",
            "DataFrame:\n",
            "      Name  Age Occupation\n",
            "0      Bob   25   Engineer\n",
            "1  Charlie   35     Doctor\n",
            "2    David   40     Artist\n"
          ]
        }
      ]
    }
  ]
}